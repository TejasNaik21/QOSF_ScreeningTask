{
 "cells": [
  {
   "cell_type": "code",
   "execution_count": 2,
   "id": "6c49de49-3323-4b52-9e3b-c1d33fd1348d",
   "metadata": {},
   "outputs": [
    {
     "name": "stderr",
     "output_type": "stream",
     "text": [
      "ibmqfactory.load_account:WARNING:2022-10-06 22:01:18,561: Credentials are already in use. The existing account in the session will be replaced.\n"
     ]
    }
   ],
   "source": [
    "import numpy as np\n",
    "\n",
    "# Importing standard Qiskit libraries\n",
    "from qiskit import QuantumCircuit, transpile, Aer, IBMQ\n",
    "from qiskit.tools.jupyter import *\n",
    "from qiskit.visualization import *\n",
    "from ibm_quantum_widgets import *\n",
    "from qiskit.providers.aer import QasmSimulator\n",
    "\n",
    "# Loading your IBM Quantum account(s)\n",
    "provider = IBMQ.load_account()"
   ]
  },
  {
   "cell_type": "code",
   "execution_count": 6,
   "id": "9f4d05b8-b812-419d-af27-f1a07aa1c9b7",
   "metadata": {},
   "outputs": [],
   "source": [
    "# I have attempted the task-2 using Grover's unstructured search algorithm\n",
    "import matplotlib.pyplot as plt\n",
    "import numpy as np\n",
    "\n",
    "# importing Qiskit\n",
    "from qiskit import IBMQ, Aer, assemble, transpile\n",
    "from qiskit import QuantumCircuit, ClassicalRegister, QuantumRegister\n",
    "import random\n",
    "# import basic plot tools\n",
    "from qiskit.visualization import plot_histogram\n",
    "\n",
    "\n",
    "def missing_number(input_vector):\n",
    "    N = len(input_vector)+1\n",
    "    n = int(np.log2(N))\n",
    "    qr = QuantumRegister(n)\n",
    "    ancilla = QuantumRegister(1)\n",
    "    cr = ClassicalRegister(n)\n",
    "    qc = QuantumCircuit(qr,ancilla,cr)\n",
    "    \n",
    "    # Creating equal superposition and |-> for ancilla qubit\n",
    "    qc.h(qr[:])\n",
    "    qc.x(ancilla[0])\n",
    "    qc.h(ancilla[0])\n",
    "    qc.barrier()\n",
    "    \n",
    "    # define oracle function. We create a oracle function which xors 1 with ancilla if the state is present\n",
    "    # in the input vector and xors 0 otherwise. As per our arrangement of ancilla being |->, this would add\n",
    "    # a local phase of -1 in the superposition state on all the states present in the input_vector. \n",
    "    #Upto a global phase, this would mean a local phase of -1 on state not present in the input_vector.\n",
    "    def oracle(qc,qr,ancilla,input_vector):\n",
    "        for i in input_vector:\n",
    "            binary_list = [int(d) for d in f\"{i:0{n}b}\".format(n)]\n",
    "            for l,j in enumerate(reversed(binary_list)):\n",
    "                if j==0:\n",
    "                    qc.x(qr[l])\n",
    "            qc.mct(qr[:],ancilla[0])\n",
    "            for l,j in enumerate(reversed(binary_list)):\n",
    "                if j==0:\n",
    "                    qc.x(qr[l])\n",
    "                   \n",
    "        \n",
    "    # define the diffusor circuit.\n",
    "    def diffusor(qc,qr,n):\n",
    "        # Performing the operation (2|s><s|-I) = H(2|0><0|-I)H , which is nothing but a - phase |0><0| and \n",
    "        # a + phase on all other states upto a global phase. Squeezing between X, XH(2|0><0|-I)HX, this is\n",
    "        # adding a - phase on |111..1><11..11|. This is obtained by MCZ gate. \n",
    "        \n",
    "        qc.h(qr[:])\n",
    "        qc.x(qr[:])\n",
    "        \n",
    "        # Applying MCZ gate\n",
    "        qc.h(qr[n-1])\n",
    "        qc.mct(qr[0:n-1],qr[n-1])\n",
    "        qc.h(qr[n-1])\n",
    "        \n",
    "        qc.x(qr[:])\n",
    "        qc.h(qr[:])\n",
    "        \n",
    "    # For large enough N, we should be amplify the amplitude enough by sqrt(N) iterations.    \n",
    "    for i in range(int(np.sqrt(N))):\n",
    "        oracle(qc,qr,ancilla,input_vector)\n",
    "        qc.barrier()\n",
    "        diffusor(qc,qr,n)\n",
    "        qc.barrier()\n",
    "        \n",
    "    # measurement\n",
    "    qc.measure(qr,cr)\n",
    "    aer_sim = Aer.get_backend('aer_simulator')\n",
    "    qobj = assemble(qc)\n",
    "    result = aer_sim.run(qobj).result()\n",
    "    counts = result.get_counts()  \n",
    "    print(\"The calculated missing value is :\")\n",
    "    print(int(max(counts, key=counts.get),2)) \n",
    "    return counts\n",
    "    \n",
    "    "
   ]
  },
  {
   "cell_type": "code",
   "execution_count": 7,
   "id": "b598e813-f83f-4a76-8965-c9fbbe7654e5",
   "metadata": {},
   "outputs": [
    {
     "name": "stdout",
     "output_type": "stream",
     "text": [
      "The calculated missing value is :\n",
      "3\n",
      "{'001': 9, '101': 10, '111': 9, '011': 962, '000': 14, '010': 8, '110': 2, '100': 10}\n"
     ]
    }
   ],
   "source": [
    "input_vector=[2,0,1,4,7,6,5]  # Here the missing value is 3 \n",
    "counts = missing_number(input_vector)\n",
    "print(counts)"
   ]
  },
  {
   "cell_type": "code",
   "execution_count": 9,
   "id": "ff3d2d27-1c1c-4d4b-a93b-7b0532a7b1b7",
   "metadata": {},
   "outputs": [
    {
     "name": "stdout",
     "output_type": "stream",
     "text": [
      "The calculated missing value is :\n",
      "3\n",
      "{'01': 228, '11': 267, '10': 262, '00': 267}\n"
     ]
    }
   ],
   "source": [
    "input_vector=[3,0,1]  # Here the missing value is 2 \n",
    "counts = missing_number(input_vector)\n",
    "print(counts)"
   ]
  },
  {
   "cell_type": "markdown",
   "id": "6cfe39a2-40ca-4711-870c-1b4c1694b2f6",
   "metadata": {},
   "source": [
    "# We see that for n=2, i.e. vector_length = 3, the solution does not converge. This is because we use the asymptotic relation that O(sqrt(N)) iterations suffice to give us the solution i.e. amplify the solution's amplitude enough. But for smallmvalues of N such that N = 4, we see that it fails to converge. When we run it for iterations=4, we get the solution with absolute certainty."
   ]
  },
  {
   "cell_type": "code",
   "execution_count": 13,
   "id": "c89cbcd4-45d7-4d16-af38-f14b14ae1f91",
   "metadata": {},
   "outputs": [
    {
     "name": "stdout",
     "output_type": "stream",
     "text": [
      "The calculated missing value is :\n",
      "2\n",
      "{'10': 1024}\n"
     ]
    }
   ],
   "source": [
    "def missing_number_special(input_vector):\n",
    "    N = len(input_vector)+1\n",
    "    n = int(np.log2(N))\n",
    "    qr = QuantumRegister(n)\n",
    "    ancilla = QuantumRegister(1)\n",
    "    cr = ClassicalRegister(n)\n",
    "    qc = QuantumCircuit(qr,ancilla,cr)\n",
    "    \n",
    "    # Creating equal superposition and |-> for ancilla qubit\n",
    "    qc.h(qr[:])\n",
    "    qc.x(ancilla[0])\n",
    "    qc.h(ancilla[0])\n",
    "    qc.barrier()\n",
    "    \n",
    "    # define oracle function. We create a oracle function which xors 1 with ancilla if the state is present\n",
    "    # in the input vector and xors 0 otherwise. As per our arrangement of ancilla being |->, this would add\n",
    "    # a local phase of -1 in the superposition state on all the states present in the input_vector. \n",
    "    #Upto a global phase, this would mean a local phase of -1 on state not present in the input_vector.\n",
    "    def oracle(qc,qr,ancilla,input_vector):\n",
    "        for i in input_vector:\n",
    "            binary_list = [int(d) for d in f\"{i:0{n}b}\".format(n)]\n",
    "            for l,j in enumerate(reversed(binary_list)):\n",
    "                if j==0:\n",
    "                    qc.x(qr[l])\n",
    "            qc.mct(qr[:],ancilla[0])\n",
    "            for l,j in enumerate(reversed(binary_list)):\n",
    "                if j==0:\n",
    "                    qc.x(qr[l])\n",
    "                   \n",
    "        \n",
    "    # define the diffusor circuit.\n",
    "    def diffusor(qc,qr,n):\n",
    "        # Performing the operation (2|s><s|-I) = H(2|0><0|-I)H , which is nothing but a - phase |0><0| and \n",
    "        # a + phase on all other states upto a global phase. Squeezing between X, XH(2|0><0|-I)HX, this is\n",
    "        # adding a - phase on |111..1><11..11|. This is obtained by MCZ gate. \n",
    "        \n",
    "        qc.h(qr[:])\n",
    "        qc.x(qr[:])\n",
    "        \n",
    "        # Applying MCZ gate\n",
    "        qc.h(qr[n-1])\n",
    "        qc.mct(qr[0:n-1],qr[n-1])\n",
    "        qc.h(qr[n-1])\n",
    "        \n",
    "        qc.x(qr[:])\n",
    "        qc.h(qr[:])\n",
    "        \n",
    "    # For large enough N, we should be amplify the amplitude enough by sqrt(N) iterations.    \n",
    "    for i in range(4):\n",
    "        oracle(qc,qr,ancilla,input_vector)\n",
    "        qc.barrier()\n",
    "        diffusor(qc,qr,n)\n",
    "        qc.barrier()\n",
    "        \n",
    "    # measurement\n",
    "    qc.measure(qr,cr)\n",
    "    aer_sim = Aer.get_backend('aer_simulator')\n",
    "    qobj = assemble(qc)\n",
    "    result = aer_sim.run(qobj).result()\n",
    "    counts = result.get_counts()  \n",
    "    print(\"The calculated missing value is :\")\n",
    "    print(int(max(counts, key=counts.get),2)) \n",
    "    return counts\n",
    "\n",
    "input_vector=[3,0,1]  # Here the missing value is 2 \n",
    "counts = missing_number_special(input_vector)\n",
    "print(counts)"
   ]
  },
  {
   "cell_type": "markdown",
   "id": "6d55e2f5-6b92-4af7-82be-2e22a26bb6a0",
   "metadata": {},
   "source": [
    "# Here we see that we get the solution with absolute certainty but at the expense of quantum advantage as the number of iterations become equal to length of vector.Below we try to plot the time taken to compute the solution for different values of vector lengths. We see that except the n=2 case, we get the correct solution in O(sqrt(N)) complexity. The plot gives time complexity."
   ]
  },
  {
   "cell_type": "code",
   "execution_count": 12,
   "id": "36dc1089-cdb9-4888-996e-985c9e0f06af",
   "metadata": {},
   "outputs": [
    {
     "name": "stdout",
     "output_type": "stream",
     "text": [
      "Real missing value for vector length 4 :\n",
      "2\n",
      "The calculated missing value is :\n",
      "3\n",
      "Real missing value for vector length 8 :\n",
      "7\n",
      "The calculated missing value is :\n",
      "7\n",
      "Real missing value for vector length 16 :\n",
      "9\n",
      "The calculated missing value is :\n",
      "9\n",
      "Real missing value for vector length 32 :\n",
      "3\n",
      "The calculated missing value is :\n",
      "3\n",
      "Real missing value for vector length 64 :\n",
      "10\n",
      "The calculated missing value is :\n",
      "10\n",
      "Real missing value for vector length 128 :\n",
      "32\n",
      "The calculated missing value is :\n",
      "32\n",
      "Real missing value for vector length 256 :\n",
      "236\n",
      "The calculated missing value is :\n",
      "236\n",
      "Real missing value for vector length 512 :\n",
      "301\n",
      "The calculated missing value is :\n",
      "301\n",
      "Real missing value for vector length 1024 :\n",
      "356\n",
      "The calculated missing value is :\n",
      "356\n",
      "Real missing value for vector length 2048 :\n",
      "1414\n",
      "The calculated missing value is :\n",
      "1414\n"
     ]
    },
    {
     "data": {
      "text/plain": [
       "Text(0, 0.5, 'Time taken in secs')"
      ]
     },
     "execution_count": 12,
     "metadata": {},
     "output_type": "execute_result"
    },
    {
     "data": {
      "image/png": "[encoded data removed]",
      "text/plain": [
       "<Figure size 432x288 with 1 Axes>"
      ]
     },
     "metadata": {
      "needs_background": "light"
     },
     "output_type": "display_data"
    }
   ],
   "source": [
    "import time\n",
    "Time = []\n",
    "vector_lengths = []\n",
    "for n in range(2,12):\n",
    "    N = 2**n\n",
    "    input_vector = list(np.arange(N))\n",
    "    print(f\"Real missing value for vector length {N} :\".format(N))\n",
    "    print(input_vector.pop(random.randint(0,N)))  \n",
    "    random.shuffle(input_vector)\n",
    "    start = time.time()\n",
    "    counts = missing_number(input_vector) \n",
    "    end = time.time()\n",
    "    Time.append(end-start)\n",
    "    vector_lengths.append(N-1)\n",
    "    input_vector = []\n",
    "plt.plot(vector_lengths,Time)\n",
    "plt.xlabel('vector_length')\n",
    "plt.ylabel('Time taken in secs')"
   ]
  },
  {
   "cell_type": "code",
   "execution_count": null,
   "id": "13ff50bd-818f-4522-9d1f-4930d815786c",
   "metadata": {},
   "outputs": [],
   "source": []
  },
  {
   "cell_type": "code",
   "execution_count": null,
   "id": "5d43816f-749d-4abf-b73d-b65a4d1c2df1",
   "metadata": {},
   "outputs": [],
   "source": []
  }
 ],
 "metadata": {
  "kernelspec": {
   "display_name": "Python 3 (ipykernel)",
   "language": "python",
   "name": "python3"
  },
  "language_info": {
   "codemirror_mode": {
    "name": "ipython",
    "version": 3
   },
   "file_extension": ".py",
   "mimetype": "text/x-python",
   "name": "python",
   "nbconvert_exporter": "python",
   "pygments_lexer": "ipython3",
   "version": "3.8.13"
  },
  "widgets": {
   "application/vnd.jupyter.widget-state+json": {
    "state": {},
    "version_major": 2,
    "version_minor": 0
   }
  }
 },
 "nbformat": 4,
 "nbformat_minor": 5
}
